{
  "nbformat": 4,
  "nbformat_minor": 0,
  "metadata": {
    "colab": {
      "name": "house_cost_prediction.ipynb",
      "version": "0.3.2",
      "views": {},
      "default_view": {},
      "provenance": []
    },
    "kernelspec": {
      "name": "python2",
      "display_name": "Python 2"
    },
    "accelerator": "GPU"
  },
  "cells": [
    {
      "metadata": {
        "id": "G6cVr7cl6jPS",
        "colab_type": "text"
      },
      "cell_type": "markdown",
      "source": [
        "#Dataset looks somewhat like this\n",
        "\n",
        "| Area (sq ft) (x1) | Bathrooms (x2) | Label (y) |\n",
        " | --- | --- | --- |\n",
        " | 2,104 |  3 | Good |\n",
        " | 1,600 |  3 | Good |\n",
        " | 2,400 |  3 | Good |\n",
        " | 1,416 | \t2 | Bad |\n",
        " | 3,000 | \t4 | Bad |\n",
        " | 1,985 | \t4 | Good |\n",
        " | 1,534 | \t3 | Bad |\n",
        " | 1,427 | \t3 | Good |\n",
        " | 1,380 | \t3 | Good |\n",
        " | 1,494 | \t3 | Good |\n",
        " \n"
      ]
    },
    {
      "metadata": {
        "id": "UBLCP-WR6jPW",
        "colab_type": "code",
        "colab": {
          "autoexec": {
            "startup": false,
            "wait_interval": 0
          }
        }
      },
      "cell_type": "code",
      "source": [
        "#importing libraries\n",
        "%matplotlib inline               \n",
        "import pandas as pd              \n",
        "import numpy as np                \n",
        "import matplotlib.pyplot as plt  \n",
        "import tensorflow as tf         \n"
      ],
      "execution_count": 0,
      "outputs": []
    },
    {
      "metadata": {
        "id": "O4ZeuivyCPxf",
        "colab_type": "code",
        "colab": {
          "autoexec": {
            "startup": false,
            "wait_interval": 0
          }
        }
      },
      "cell_type": "code",
      "source": [
        "#Google drive authentication Code\n",
        "!pip install -U -q PyDrive\n",
        "import numpy as np\n",
        "from pydrive.auth import GoogleAuth\n",
        "from pydrive.drive import GoogleDrive\n",
        "from google.colab import auth\n",
        "from oauth2client.client import GoogleCredentials\n",
        "\n",
        "# 1. Authenticate and create the PyDrive client.\n",
        "auth.authenticate_user()\n",
        "gauth = GoogleAuth()\n",
        "gauth.credentials = GoogleCredentials.get_application_default()\n",
        "drive = GoogleDrive(gauth)\n",
        "\n",
        "# 2. Load a file by ID and create local file.\n",
        "downloaded = drive.CreateFile({'id':'1v8RtfJ3JN7i4o7xHxtu-r_IRo-j7uwvh'}) # replace fileid with Id of file you want to access represented by long string in single quotes\n",
        "downloaded.GetContentFile('data.csv') # now you can use export.csv share"
      ],
      "execution_count": 0,
      "outputs": []
    },
    {
      "metadata": {
        "id": "chyDhHxB6jPk",
        "colab_type": "code",
        "colab": {
          "autoexec": {
            "startup": false,
            "wait_interval": 0
          },
          "output_extras": [
            {
              "item_id": 1
            }
          ],
          "base_uri": "https://localhost:8080/",
          "height": 359
        },
        "outputId": "a5ccbff2-2926-43e1-913a-95399d33b042",
        "executionInfo": {
          "status": "ok",
          "timestamp": 1516946493019,
          "user_tz": -330,
          "elapsed": 864,
          "user": {
            "displayName": "Suraj",
            "photoUrl": "//lh5.googleusercontent.com/-n0XOqm4pzzY/AAAAAAAAAAI/AAAAAAAAGMk/QR2xoSjmXbk/s50-c-k-no/photo.jpg",
            "userId": "108764986987181223074"
          }
        }
      },
      "cell_type": "code",
      "source": [
        "dataframe = pd.read_csv(\"data.csv\") # Loading the dataset using pandas\n",
        "dataframe = dataframe.drop([\"index\", \"price\", \"sq_price\"], axis=1) # Remove columns we don't care about\n",
        "dataframe = dataframe[0:10] # We'll only use the first 10 rows of the dataset in this example\n",
        "dataframe # Let's have the notebook show us how the dataframe looks now"
      ],
      "execution_count": 5,
      "outputs": [
        {
          "output_type": "execute_result",
          "data": {
            "text/html": [
              "<div>\n",
              "<style scoped>\n",
              "    .dataframe tbody tr th:only-of-type {\n",
              "        vertical-align: middle;\n",
              "    }\n",
              "\n",
              "    .dataframe tbody tr th {\n",
              "        vertical-align: top;\n",
              "    }\n",
              "\n",
              "    .dataframe thead th {\n",
              "        text-align: right;\n",
              "    }\n",
              "</style>\n",
              "<table border=\"1\" class=\"dataframe\">\n",
              "  <thead>\n",
              "    <tr style=\"text-align: right;\">\n",
              "      <th></th>\n",
              "      <th>area</th>\n",
              "      <th>bathrooms</th>\n",
              "    </tr>\n",
              "  </thead>\n",
              "  <tbody>\n",
              "    <tr>\n",
              "      <th>0</th>\n",
              "      <td>2104.0</td>\n",
              "      <td>3.0</td>\n",
              "    </tr>\n",
              "    <tr>\n",
              "      <th>1</th>\n",
              "      <td>1600.0</td>\n",
              "      <td>3.0</td>\n",
              "    </tr>\n",
              "    <tr>\n",
              "      <th>2</th>\n",
              "      <td>2400.0</td>\n",
              "      <td>3.0</td>\n",
              "    </tr>\n",
              "    <tr>\n",
              "      <th>3</th>\n",
              "      <td>1416.0</td>\n",
              "      <td>2.0</td>\n",
              "    </tr>\n",
              "    <tr>\n",
              "      <th>4</th>\n",
              "      <td>3000.0</td>\n",
              "      <td>4.0</td>\n",
              "    </tr>\n",
              "    <tr>\n",
              "      <th>5</th>\n",
              "      <td>1985.0</td>\n",
              "      <td>4.0</td>\n",
              "    </tr>\n",
              "    <tr>\n",
              "      <th>6</th>\n",
              "      <td>1534.0</td>\n",
              "      <td>3.0</td>\n",
              "    </tr>\n",
              "    <tr>\n",
              "      <th>7</th>\n",
              "      <td>1427.0</td>\n",
              "      <td>3.0</td>\n",
              "    </tr>\n",
              "    <tr>\n",
              "      <th>8</th>\n",
              "      <td>1380.0</td>\n",
              "      <td>3.0</td>\n",
              "    </tr>\n",
              "    <tr>\n",
              "      <th>9</th>\n",
              "      <td>1494.0</td>\n",
              "      <td>3.0</td>\n",
              "    </tr>\n",
              "  </tbody>\n",
              "</table>\n",
              "</div>"
            ],
            "text/plain": [
              "     area  bathrooms\n",
              "0  2104.0        3.0\n",
              "1  1600.0        3.0\n",
              "2  2400.0        3.0\n",
              "3  1416.0        2.0\n",
              "4  3000.0        4.0\n",
              "5  1985.0        4.0\n",
              "6  1534.0        3.0\n",
              "7  1427.0        3.0\n",
              "8  1380.0        3.0\n",
              "9  1494.0        3.0"
            ]
          },
          "metadata": {
            "tags": []
          },
          "execution_count": 5
        }
      ]
    },
    {
      "metadata": {
        "id": "HdozmL1I6jP2",
        "colab_type": "text"
      },
      "cell_type": "markdown",
      "source": [
        "The dataframe now only has the features. Let's introduce the labels."
      ]
    },
    {
      "metadata": {
        "id": "6OKk_LDZ6jP4",
        "colab_type": "code",
        "colab": {
          "autoexec": {
            "startup": false,
            "wait_interval": 0
          },
          "output_extras": [
            {
              "item_id": 1
            }
          ],
          "base_uri": "https://localhost:8080/",
          "height": 359
        },
        "outputId": "70c8f130-ad49-4206-f94f-8ba45c60286f",
        "executionInfo": {
          "status": "ok",
          "timestamp": 1516946643677,
          "user_tz": -330,
          "elapsed": 1534,
          "user": {
            "displayName": "Suraj",
            "photoUrl": "//lh5.googleusercontent.com/-n0XOqm4pzzY/AAAAAAAAAAI/AAAAAAAAGMk/QR2xoSjmXbk/s50-c-k-no/photo.jpg",
            "userId": "108764986987181223074"
          }
        }
      },
      "cell_type": "code",
      "source": [
        "dataframe.loc[:, (\"y1\")] = [1, 1, 1, 0, 0, 1, 0, 1, 1, 1] #User's list of which houses she liked\n",
        "                                                          # 1 =liked, 0 = No\n",
        "dataframe.loc[:, (\"y2\")] = dataframe[\"y1\"] == 0           # y2 is the negation of y1\n",
        "dataframe.loc[:, (\"y2\")] = dataframe[\"y2\"].astype(int)    # Turn TRUE/FALSE values into 1/0\n",
        "# y2 means we don't like a house\n",
        "# (Even if, it's redundant. But learning to do it this way opens the door to Multiclass classification)\n",
        "dataframe # How is our dataframe looking now?"
      ],
      "execution_count": 7,
      "outputs": [
        {
          "output_type": "execute_result",
          "data": {
            "text/html": [
              "<div>\n",
              "<style scoped>\n",
              "    .dataframe tbody tr th:only-of-type {\n",
              "        vertical-align: middle;\n",
              "    }\n",
              "\n",
              "    .dataframe tbody tr th {\n",
              "        vertical-align: top;\n",
              "    }\n",
              "\n",
              "    .dataframe thead th {\n",
              "        text-align: right;\n",
              "    }\n",
              "</style>\n",
              "<table border=\"1\" class=\"dataframe\">\n",
              "  <thead>\n",
              "    <tr style=\"text-align: right;\">\n",
              "      <th></th>\n",
              "      <th>area</th>\n",
              "      <th>bathrooms</th>\n",
              "      <th>y1</th>\n",
              "      <th>y2</th>\n",
              "    </tr>\n",
              "  </thead>\n",
              "  <tbody>\n",
              "    <tr>\n",
              "      <th>0</th>\n",
              "      <td>2104.0</td>\n",
              "      <td>3.0</td>\n",
              "      <td>1</td>\n",
              "      <td>0</td>\n",
              "    </tr>\n",
              "    <tr>\n",
              "      <th>1</th>\n",
              "      <td>1600.0</td>\n",
              "      <td>3.0</td>\n",
              "      <td>1</td>\n",
              "      <td>0</td>\n",
              "    </tr>\n",
              "    <tr>\n",
              "      <th>2</th>\n",
              "      <td>2400.0</td>\n",
              "      <td>3.0</td>\n",
              "      <td>1</td>\n",
              "      <td>0</td>\n",
              "    </tr>\n",
              "    <tr>\n",
              "      <th>3</th>\n",
              "      <td>1416.0</td>\n",
              "      <td>2.0</td>\n",
              "      <td>0</td>\n",
              "      <td>1</td>\n",
              "    </tr>\n",
              "    <tr>\n",
              "      <th>4</th>\n",
              "      <td>3000.0</td>\n",
              "      <td>4.0</td>\n",
              "      <td>0</td>\n",
              "      <td>1</td>\n",
              "    </tr>\n",
              "    <tr>\n",
              "      <th>5</th>\n",
              "      <td>1985.0</td>\n",
              "      <td>4.0</td>\n",
              "      <td>1</td>\n",
              "      <td>0</td>\n",
              "    </tr>\n",
              "    <tr>\n",
              "      <th>6</th>\n",
              "      <td>1534.0</td>\n",
              "      <td>3.0</td>\n",
              "      <td>0</td>\n",
              "      <td>1</td>\n",
              "    </tr>\n",
              "    <tr>\n",
              "      <th>7</th>\n",
              "      <td>1427.0</td>\n",
              "      <td>3.0</td>\n",
              "      <td>1</td>\n",
              "      <td>0</td>\n",
              "    </tr>\n",
              "    <tr>\n",
              "      <th>8</th>\n",
              "      <td>1380.0</td>\n",
              "      <td>3.0</td>\n",
              "      <td>1</td>\n",
              "      <td>0</td>\n",
              "    </tr>\n",
              "    <tr>\n",
              "      <th>9</th>\n",
              "      <td>1494.0</td>\n",
              "      <td>3.0</td>\n",
              "      <td>1</td>\n",
              "      <td>0</td>\n",
              "    </tr>\n",
              "  </tbody>\n",
              "</table>\n",
              "</div>"
            ],
            "text/plain": [
              "     area  bathrooms  y1  y2\n",
              "0  2104.0        3.0   1   0\n",
              "1  1600.0        3.0   1   0\n",
              "2  2400.0        3.0   1   0\n",
              "3  1416.0        2.0   0   1\n",
              "4  3000.0        4.0   0   1\n",
              "5  1985.0        4.0   1   0\n",
              "6  1534.0        3.0   0   1\n",
              "7  1427.0        3.0   1   0\n",
              "8  1380.0        3.0   1   0\n",
              "9  1494.0        3.0   1   0"
            ]
          },
          "metadata": {
            "tags": []
          },
          "execution_count": 7
        }
      ]
    },
    {
      "metadata": {
        "id": "WXaSkurf6jQE",
        "colab_type": "text"
      },
      "cell_type": "markdown",
      "source": [
        "Now that we have all our data in the dataframe, we'll need to shape it in matrices to feed it to TensorFlow"
      ]
    },
    {
      "metadata": {
        "id": "wkqD8hrj6jQH",
        "colab_type": "code",
        "colab": {
          "autoexec": {
            "startup": false,
            "wait_interval": 0
          }
        }
      },
      "cell_type": "code",
      "source": [
        "inputX = dataframe.loc[:, ['area', 'bathrooms']].as_matrix()\n",
        "inputY = dataframe.loc[:, [\"y1\", \"y2\"]].as_matrix()"
      ],
      "execution_count": 0,
      "outputs": []
    },
    {
      "metadata": {
        "id": "D1n9Nkge6jQO",
        "colab_type": "text"
      },
      "cell_type": "markdown",
      "source": [
        "So now our input matrix looks like this:"
      ]
    },
    {
      "metadata": {
        "id": "uCWfx5H_6jQR",
        "colab_type": "code",
        "colab": {
          "autoexec": {
            "startup": false,
            "wait_interval": 0
          },
          "output_extras": [
            {
              "item_id": 1
            }
          ],
          "base_uri": "https://localhost:8080/",
          "height": 187
        },
        "outputId": "da739c23-07c2-4dff-d527-236b4ffc33e0",
        "executionInfo": {
          "status": "ok",
          "timestamp": 1516946660158,
          "user_tz": -330,
          "elapsed": 1251,
          "user": {
            "displayName": "Suraj",
            "photoUrl": "//lh5.googleusercontent.com/-n0XOqm4pzzY/AAAAAAAAAAI/AAAAAAAAGMk/QR2xoSjmXbk/s50-c-k-no/photo.jpg",
            "userId": "108764986987181223074"
          }
        }
      },
      "cell_type": "code",
      "source": [
        "inputX"
      ],
      "execution_count": 9,
      "outputs": [
        {
          "output_type": "execute_result",
          "data": {
            "text/plain": [
              "array([[2.104e+03, 3.000e+00],\n",
              "       [1.600e+03, 3.000e+00],\n",
              "       [2.400e+03, 3.000e+00],\n",
              "       [1.416e+03, 2.000e+00],\n",
              "       [3.000e+03, 4.000e+00],\n",
              "       [1.985e+03, 4.000e+00],\n",
              "       [1.534e+03, 3.000e+00],\n",
              "       [1.427e+03, 3.000e+00],\n",
              "       [1.380e+03, 3.000e+00],\n",
              "       [1.494e+03, 3.000e+00]])"
            ]
          },
          "metadata": {
            "tags": []
          },
          "execution_count": 9
        }
      ]
    },
    {
      "metadata": {
        "id": "2e0hPu746jQd",
        "colab_type": "text"
      },
      "cell_type": "markdown",
      "source": [
        "And our labels matrix looks like this:"
      ]
    },
    {
      "metadata": {
        "id": "IFrxs4ye6jQg",
        "colab_type": "code",
        "colab": {
          "autoexec": {
            "startup": false,
            "wait_interval": 0
          },
          "output_extras": [
            {
              "item_id": 1
            }
          ],
          "base_uri": "https://localhost:8080/",
          "height": 187
        },
        "outputId": "049e9441-7688-457c-f781-bbca0132851c",
        "executionInfo": {
          "status": "ok",
          "timestamp": 1516946661914,
          "user_tz": -330,
          "elapsed": 1402,
          "user": {
            "displayName": "Suraj",
            "photoUrl": "//lh5.googleusercontent.com/-n0XOqm4pzzY/AAAAAAAAAAI/AAAAAAAAGMk/QR2xoSjmXbk/s50-c-k-no/photo.jpg",
            "userId": "108764986987181223074"
          }
        }
      },
      "cell_type": "code",
      "source": [
        "inputY"
      ],
      "execution_count": 10,
      "outputs": [
        {
          "output_type": "execute_result",
          "data": {
            "text/plain": [
              "array([[1, 0],\n",
              "       [1, 0],\n",
              "       [1, 0],\n",
              "       [0, 1],\n",
              "       [0, 1],\n",
              "       [1, 0],\n",
              "       [0, 1],\n",
              "       [1, 0],\n",
              "       [1, 0],\n",
              "       [1, 0]])"
            ]
          },
          "metadata": {
            "tags": []
          },
          "execution_count": 10
        }
      ]
    },
    {
      "metadata": {
        "id": "z1AgWXfD6jQq",
        "colab_type": "text"
      },
      "cell_type": "markdown",
      "source": [
        "Let's prepare some parameters for the training process"
      ]
    },
    {
      "metadata": {
        "id": "fokuWSif6jQv",
        "colab_type": "code",
        "colab": {
          "autoexec": {
            "startup": false,
            "wait_interval": 0
          }
        }
      },
      "cell_type": "code",
      "source": [
        "# Parameters\n",
        "learning_rate = 0.000001\n",
        "training_epochs = 2000\n",
        "display_step = 50\n",
        "n_samples = inputY.size"
      ],
      "execution_count": 0,
      "outputs": []
    },
    {
      "metadata": {
        "id": "zr1yTnwF6jQ5",
        "colab_type": "text"
      },
      "cell_type": "markdown",
      "source": [
        "And now to define the TensorFlow operations. Notice that this is a declaration step where we tell TensorFlow how the prediction is calculated. If we execute it, no calculation would be made. It would just acknowledge that it now knows how to do the operation."
      ]
    },
    {
      "metadata": {
        "id": "3XdwZEMg6jRB",
        "colab_type": "code",
        "colab": {
          "autoexec": {
            "startup": false,
            "wait_interval": 0
          }
        }
      },
      "cell_type": "code",
      "source": [
        "x = tf.placeholder(tf.float32, [None, 2])   # Okay TensorFlow, we'll feed you an array of examples. Each example will\n",
        "                                            # be an array of two float values (area, and number of bathrooms).\n",
        "                                            # \"None\" means we can feed you any number of examples\n",
        "                                            # Notice we haven't fed it the values yet\n",
        "            \n",
        "W = tf.Variable(tf.zeros([2, 2]))           # Maintain a 2 x 2 float matrix for the weights that we'll keep updating \n",
        "                                            # through the training process (make them all zero to begin with)\n",
        "    \n",
        "b = tf.Variable(tf.zeros([2]))              # Also maintain two bias values\n",
        "\n",
        "y_values = tf.add(tf.matmul(x, W), b)       # The first step in calculating the prediction would be to multiply\n",
        "                                            # the inputs matrix by the weights matrix then add the biases\n",
        "    \n",
        "y = tf.nn.softmax(y_values)                 # Then we use softmax as an \"activation function\" that translates the\n",
        "                                            # numbers outputted by the previous layer into probability form\n",
        "    \n",
        "y_ = tf.placeholder(tf.float32, [None,2])   # For training purposes, we'll also feed you a matrix of labels"
      ],
      "execution_count": 0,
      "outputs": []
    },
    {
      "metadata": {
        "id": "n4d4-YD16jRK",
        "colab_type": "text"
      },
      "cell_type": "markdown",
      "source": [
        "Let's specify our cost function and use Gradient Descent"
      ]
    },
    {
      "metadata": {
        "id": "Q2b4BCQy6jRO",
        "colab_type": "code",
        "colab": {
          "autoexec": {
            "startup": false,
            "wait_interval": 0
          }
        }
      },
      "cell_type": "code",
      "source": [
        "\n",
        "# Cost function: Mean squared error\n",
        "cost = tf.reduce_sum(tf.pow(y_ - y, 2))/(2*n_samples)\n",
        "# Gradient descent\n",
        "optimizer = tf.train.GradientDescentOptimizer(learning_rate).minimize(cost)\n"
      ],
      "execution_count": 0,
      "outputs": []
    },
    {
      "metadata": {
        "id": "sQeqLZ1G6jRW",
        "colab_type": "code",
        "colab": {
          "autoexec": {
            "startup": false,
            "wait_interval": 0
          },
          "output_extras": [
            {
              "item_id": 1
            }
          ],
          "base_uri": "https://localhost:8080/",
          "height": 88
        },
        "outputId": "31c11dc7-c085-4fec-d5ed-b7acfa9a424b",
        "executionInfo": {
          "status": "ok",
          "timestamp": 1516946690534,
          "user_tz": -330,
          "elapsed": 1237,
          "user": {
            "displayName": "Suraj",
            "photoUrl": "//lh5.googleusercontent.com/-n0XOqm4pzzY/AAAAAAAAAAI/AAAAAAAAGMk/QR2xoSjmXbk/s50-c-k-no/photo.jpg",
            "userId": "108764986987181223074"
          }
        }
      },
      "cell_type": "code",
      "source": [
        "# Initialize variabls and tensorflow session\n",
        "init = tf.initialize_all_variables()\n",
        "sess = tf.Session()\n",
        "sess.run(init)"
      ],
      "execution_count": 14,
      "outputs": [
        {
          "output_type": "stream",
          "text": [
            "WARNING:tensorflow:From /usr/local/lib/python2.7/dist-packages/tensorflow/python/util/tf_should_use.py:107: initialize_all_variables (from tensorflow.python.ops.variables) is deprecated and will be removed after 2017-03-02.\n",
            "Instructions for updating:\n",
            "Use `tf.global_variables_initializer` instead.\n"
          ],
          "name": "stdout"
        }
      ]
    },
    {
      "metadata": {
        "id": "J0Gtb0-06jRd",
        "colab_type": "text"
      },
      "cell_type": "markdown",
      "source": [
        "*Drum roll*\n",
        "\n",
        "And now for the actual training"
      ]
    },
    {
      "metadata": {
        "id": "Bf-LG8696jRj",
        "colab_type": "code",
        "colab": {
          "autoexec": {
            "startup": false,
            "wait_interval": 0
          },
          "output_extras": [
            {
              "item_id": 5
            }
          ],
          "base_uri": "https://localhost:8080/",
          "height": 765
        },
        "outputId": "a2a251e2-f3a3-466c-857d-918ad7679a45",
        "executionInfo": {
          "status": "ok",
          "timestamp": 1516946700171,
          "user_tz": -330,
          "elapsed": 3298,
          "user": {
            "displayName": "Suraj",
            "photoUrl": "//lh5.googleusercontent.com/-n0XOqm4pzzY/AAAAAAAAAAI/AAAAAAAAGMk/QR2xoSjmXbk/s50-c-k-no/photo.jpg",
            "userId": "108764986987181223074"
          }
        }
      },
      "cell_type": "code",
      "source": [
        "for i in range(training_epochs):  \n",
        "    sess.run(optimizer, feed_dict={x: inputX, y_: inputY}) # Take a gradient descent step using our inputs and labels\n",
        "\n",
        "    # That's all! The rest of the cell just outputs debug messages. \n",
        "    # Display logs per epoch step\n",
        "    if (i) % display_step == 0:\n",
        "        cc = sess.run(cost, feed_dict={x: inputX, y_:inputY})\n",
        "        print \"Training step:\", '%04d' % (i), \"cost=\", \"{:.9f}\".format(cc) #, \\\"W=\", sess.run(W), \"b=\", sess.run(b)\n",
        "\n",
        "print \"Optimization Finished!\"\n",
        "training_cost = sess.run(cost, feed_dict={x: inputX, y_: inputY})\n",
        "print \"Training cost=\", training_cost, \"W=\", sess.run(W), \"b=\", sess.run(b), '\\n'\n"
      ],
      "execution_count": 15,
      "outputs": [
        {
          "output_type": "stream",
          "text": [
            "Training step: 0000 cost= 0.114958659\n",
            "Training step: 0050 cost= 0.109539941\n",
            "Training step: 0100 cost= 0.109539881\n",
            "Training step: 0150 cost= 0.109539807\n",
            "Training step: 0200 cost= 0.109539732\n",
            "Training step: 0250 cost= 0.109539673\n",
            "Training step: 0300 cost= 0.109539606\n",
            "Training step: 0350 cost= 0.109539531\n",
            "Training step: 0400 cost= 0.109539464\n",
            "Training step: 0450 cost= 0.109539405\n",
            "Training step: 0500 cost= 0.109539315\n",
            "Training step: 0550 cost= 0.109539255\n",
            "Training step: 0600 cost= 0.109539188\n",
            "Training step: 0650 cost= 0.109539129\n",
            "Training step: 0700 cost= 0.109539054\n",
            "Training step: 0750 cost= 0.109538987\n",
            "Training step: 0800 cost= 0.109538913\n",
            "Training step: 0850 cost= 0.109538838\n",
            "Training step: 0900 cost= 0.109538779\n",
            "Training step: 0950 cost= 0.109538712\n",
            "Training step: 1000 cost= 0.109538652\n",
            "Training step: 1050 cost= 0.109538577\n",
            "Training step: 1100 cost= 0.109538510\n",
            "Training step: 1150 cost= 0.109538436\n",
            "Training step: 1200 cost= 0.109538376\n",
            "Training step: 1250 cost= 0.109538302\n",
            "Training step: 1300 cost= 0.109538235\n",
            "Training step: 1350 cost= 0.109538175\n",
            "Training step: 1400 cost= 0.109538101\n",
            "Training step: 1450 cost= 0.109538034\n",
            "Training step: 1500 cost= 0.109537959\n",
            "Training step: 1550 cost= 0.109537885\n",
            "Training step: 1600 cost= 0.109537825\n",
            "Training step: 1650 cost= 0.109537758\n",
            "Training step: 1700 cost= 0.109537698\n",
            "Training step: 1750 cost= 0.109537616\n",
            "Training step: 1800 cost= 0.109537557\n",
            "Training step: 1850 cost= 0.109537482\n",
            "Training step: 1900 cost= 0.109537423\n",
            "Training step: 1950 cost= 0.109537348\n",
            "Optimization Finished!\n",
            "Training cost= 0.10953728 W= [[ 2.1414983e-04 -2.1414967e-04]\n",
            " [ 5.1274819e-05 -5.1274808e-05]] b= [ 1.1915521e-05 -1.1915522e-05] \n",
            "\n"
          ],
          "name": "stdout"
        }
      ]
    },
    {
      "metadata": {
        "id": "2_AXpt0X6jRu",
        "colab_type": "text"
      },
      "cell_type": "markdown",
      "source": [
        "Now the training is done. TensorFlow is now holding on to our trained model (Which is basically just the defined operations, plus the variables W and b that resulted from the training process).\n",
        "\n",
        "Is a cost value of 0.109537 good or bad? I have no idea. At least it's better than the first cost value of 0.114958666. Let's use the model on our dataset to see how it does, though:"
      ]
    },
    {
      "metadata": {
        "id": "xBRX6V0o6jRw",
        "colab_type": "code",
        "colab": {
          "autoexec": {
            "startup": false,
            "wait_interval": 0
          },
          "output_extras": [
            {
              "item_id": 1
            }
          ],
          "base_uri": "https://localhost:8080/",
          "height": 187
        },
        "outputId": "509a4f74-4684-4b12-bcd6-9bfe53f59928",
        "executionInfo": {
          "status": "ok",
          "timestamp": 1516946715591,
          "user_tz": -330,
          "elapsed": 1348,
          "user": {
            "displayName": "Suraj",
            "photoUrl": "//lh5.googleusercontent.com/-n0XOqm4pzzY/AAAAAAAAAAI/AAAAAAAAGMk/QR2xoSjmXbk/s50-c-k-no/photo.jpg",
            "userId": "108764986987181223074"
          }
        }
      },
      "cell_type": "code",
      "source": [
        "sess.run(y, feed_dict={x: inputX })"
      ],
      "execution_count": 16,
      "outputs": [
        {
          "output_type": "execute_result",
          "data": {
            "text/plain": [
              "array([[0.7112523 , 0.28874776],\n",
              "       [0.66498977, 0.33501023],\n",
              "       [0.73657656, 0.26342347],\n",
              "       [0.64718795, 0.3528121 ],\n",
              "       [0.78335613, 0.21664387],\n",
              "       [0.7006948 , 0.2993052 ],\n",
              "       [0.6586633 , 0.34133673],\n",
              "       [0.6482863 , 0.35171375],\n",
              "       [0.6436828 , 0.35631716],\n",
              "       [0.6548012 , 0.34519887]], dtype=float32)"
            ]
          },
          "metadata": {
            "tags": []
          },
          "execution_count": 16
        }
      ]
    },
    {
      "metadata": {
        "id": "MWzFGtDy6jR5",
        "colab_type": "text"
      },
      "cell_type": "markdown",
      "source": [
        "So It's guessing they're all good houses. That makes it get 7/10 correct. Not terribly impressive. A model with a hidden layer should do better, I guess."
      ]
    },
    {
      "metadata": {
        "id": "tDvvP0hJ6jR7",
        "colab_type": "text"
      },
      "cell_type": "markdown",
      "source": [
        "Btw, this is how I calculated the softmax values in the post:"
      ]
    },
    {
      "metadata": {
        "id": "E_yNqJ2W6jR9",
        "colab_type": "code",
        "colab": {
          "autoexec": {
            "startup": false,
            "wait_interval": 0
          },
          "output_extras": [
            {
              "item_id": 1
            }
          ],
          "base_uri": "https://localhost:8080/",
          "height": 34
        },
        "outputId": "fd4433d6-3e60-4f4f-e6c1-667bf9659b7a",
        "executionInfo": {
          "status": "ok",
          "timestamp": 1516946718508,
          "user_tz": -330,
          "elapsed": 921,
          "user": {
            "displayName": "Suraj",
            "photoUrl": "//lh5.googleusercontent.com/-n0XOqm4pzzY/AAAAAAAAAAI/AAAAAAAAGMk/QR2xoSjmXbk/s50-c-k-no/photo.jpg",
            "userId": "108764986987181223074"
          }
        }
      },
      "cell_type": "code",
      "source": [
        "sess.run(tf.nn.softmax([1., 2.]))"
      ],
      "execution_count": 17,
      "outputs": [
        {
          "output_type": "execute_result",
          "data": {
            "text/plain": [
              "array([0.26894143, 0.7310586 ], dtype=float32)"
            ]
          },
          "metadata": {
            "tags": []
          },
          "execution_count": 17
        }
      ]
    },
    {
      "metadata": {
        "id": "1Ihwry1wEfqS",
        "colab_type": "code",
        "colab": {
          "autoexec": {
            "startup": false,
            "wait_interval": 0
          }
        }
      },
      "cell_type": "code",
      "source": [
        ""
      ],
      "execution_count": 0,
      "outputs": []
    }
  ]
}