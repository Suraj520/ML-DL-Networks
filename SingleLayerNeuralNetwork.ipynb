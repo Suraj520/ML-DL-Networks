{
  "nbformat": 4,
  "nbformat_minor": 0,
  "metadata": {
    "colab": {
      "name": "SingleLayerNeuralNetwork",
      "version": "0.3.2",
      "views": {},
      "default_view": {},
      "provenance": []
    },
    "kernelspec": {
      "name": "python2",
      "display_name": "Python 2"
    }
  },
  "cells": [
    {
      "metadata": {
        "id": "2a9RoOXOYroB",
        "colab_type": "code",
        "colab": {
          "autoexec": {
            "startup": false,
            "wait_interval": 0
          },
          "output_extras": [
            {
              "item_id": 1
            }
          ],
          "base_uri": "https://localhost:8080/",
          "height": 187
        },
        "outputId": "d239df6d-eef6-42b4-ab00-28ee3c9b079b",
        "executionInfo": {
          "status": "ok",
          "timestamp": 1516906683225,
          "user_tz": -330,
          "elapsed": 1258,
          "user": {
            "displayName": "Suraj",
            "photoUrl": "//lh5.googleusercontent.com/-n0XOqm4pzzY/AAAAAAAAAAI/AAAAAAAAGMk/QR2xoSjmXbk/s50-c-k-no/photo.jpg",
            "userId": "108764986987181223074"
          }
        }
      },
      "cell_type": "code",
      "source": [
        "#importing a library\n",
        "from numpy import exp, array, random, dot\n",
        "\n",
        "\n",
        "class NeuralNetwork():\n",
        "    def __init__(self):\n",
        "        # Seed the random number generator, so it generates the same numbers\n",
        "        # every time the program runs.\n",
        "        random.seed(1)\n",
        "\n",
        "        # We model a single neuron, with 3 input connections and 1 output connection.\n",
        "        # We assign random weights to a 3 x 1 matrix, with values in the range -1 to 1\n",
        "        # and mean 0.\n",
        "        self.random_weights = 2 * random.random((3, 1)) - 1\n",
        "    #defining the sigmoid function\n",
        "    def sigmoid(self, x):\n",
        "        return 1 / (1 + exp(-x))\n",
        "\n",
        "    # The derivative of the Sigmoid function.\n",
        "    # This is the gradient of the Sigmoid curve.\n",
        "    # It indicates how confident we are about the existing weight.\n",
        "    def sigmoid_derivative(self, x):\n",
        "        return x * (1 - x)\n",
        "\n",
        "    # We train the neural network through a process of trial and error.\n",
        "    # Adjusting the synaptic weights each time.\n",
        "    def train(self, training_set_inputs, training_set_outputs, number_of_training_iterations):\n",
        "        for iteration in xrange(number_of_training_iterations):\n",
        "            # Pass the training set through our neural network (a single neuron).\n",
        "            output = self.think(training_set_inputs)\n",
        "\n",
        "            # Calculate the error (The difference between the desired output\n",
        "            # and the predicted output).\n",
        "            error = training_set_outputs - output\n",
        "\n",
        "            # Multiply the error by the input and again by the gradient of the Sigmoid curve.\n",
        "            # This means less confident weights are adjusted more.\n",
        "            # This means inputs, which are zero, do not cause changes to the weights.\n",
        "            adjustment = dot(training_set_inputs.T, error * self.sigmoid_derivative(output))\n",
        "\n",
        "            # Adjust the weights.\n",
        "            self.random_weights += adjustment\n",
        "\n",
        "    # The function which gives neural network ability to think\n",
        "    def think(self, inputs):\n",
        "        # Pass inputs through our neural network (our single neuron).\n",
        "        return self.sigmoid(dot(inputs, self.random_weights))\n",
        "\n",
        "\n",
        "if __name__ == \"__main__\":\n",
        "\n",
        "    #Intialise a single neuron neural network.\n",
        "    neural_network = NeuralNetwork()\n",
        "\n",
        "    print \"Random starting synaptic weights: \"\n",
        "    print neural_network.random_weights\n",
        "\n",
        "    # The training set. We have 4 examples, each consisting of 3 input values\n",
        "    # and 1 output value.\n",
        "    training_set_inputs = array([[0, 0, 1], [1, 1, 1], [1, 0, 1], [0, 1, 1]])\n",
        "    training_set_outputs = array([[0, 1, 1, 0]]).T\n",
        "\n",
        "    # Train the neural network using a training set.\n",
        "   \n",
        "    neural_network.train(training_set_inputs, training_set_outputs, 10000)\n",
        "\n",
        "    print \"New synaptic weights after training: \"\n",
        "    print neural_network.random_weights\n",
        "\n",
        "    # Test the neural network with a new situation.\n",
        "    print \"Considering new situation [1, 0, 0] -> ?: \"\n",
        "    print neural_network.think(array([1, 0, 0]))"
      ],
      "execution_count": 13,
      "outputs": [
        {
          "output_type": "stream",
          "text": [
            "Random starting synaptic weights: \n",
            "[[-0.16595599]\n",
            " [ 0.44064899]\n",
            " [-0.99977125]]\n",
            "New synaptic weights after training: \n",
            "[[ 9.67299303]\n",
            " [-0.2078435 ]\n",
            " [-4.62963669]]\n",
            "Considering new situation [1, 0, 0] -> ?: \n",
            "[0.99993704]\n"
          ],
          "name": "stdout"
        }
      ]
    },
    {
      "metadata": {
        "id": "dTCq0-ENoq1T",
        "colab_type": "code",
        "colab": {
          "autoexec": {
            "startup": false,
            "wait_interval": 0
          }
        }
      },
      "cell_type": "code",
      "source": [
        ""
      ],
      "execution_count": 0,
      "outputs": []
    }
  ]
}